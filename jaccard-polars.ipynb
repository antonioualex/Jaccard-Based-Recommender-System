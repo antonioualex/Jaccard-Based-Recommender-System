{
 "cells": [
  {
   "cell_type": "markdown",
   "source": [
    "#### Required Libraries\n",
    "\n",
    "##### Polars\n",
    "\n",
    "Polars is a blazingly fast DataFrame library implemented in Rust and runs on Python.\n",
    "```bash\n",
    "!pip install polars\n",
    "```\n",
    "\n",
    "##### Polars Distance\n",
    "\n",
    "Polars distance is a separate package that provides additional distance functions for Polars. In our case, we will use it to calculate the Jaccard similarity between two lists.\n",
    "\n",
    "```bash\n",
    "!pip install polars-distance\n",
    "```\n",
    "\n",
    "`NOTE:` after installing Polars, you will need to restart the kernel."
   ],
   "metadata": {
    "collapsed": false
   }
  },
  {
   "cell_type": "code",
   "execution_count": 3,
   "outputs": [],
   "source": [
    "import polars as pl\n",
    "import polars_distance as pld"
   ],
   "metadata": {
    "collapsed": false,
    "ExecuteTime": {
     "end_time": "2024-06-27T07:34:00.016062Z",
     "start_time": "2024-06-27T07:33:59.936428Z"
    }
   }
  },
  {
   "cell_type": "code",
   "execution_count": 4,
   "outputs": [],
   "source": [
    "# Maximum length of strings that are displayed when you print a DataFrame\n",
    "_ = pl.Config.set_fmt_str_lengths(100)"
   ],
   "metadata": {
    "collapsed": false,
    "ExecuteTime": {
     "end_time": "2024-06-27T07:34:00.017968Z",
     "start_time": "2024-06-27T07:34:00.017022Z"
    }
   }
  },
  {
   "cell_type": "code",
   "execution_count": 5,
   "outputs": [],
   "source": [
    "df_reviews = pl.read_ndjson(\"./Musical_Instruments_5.json\")\n",
    "df_reviews_meta = pl.read_ndjson(\"./meta_Musical_Instruments.json\")"
   ],
   "metadata": {
    "collapsed": false,
    "ExecuteTime": {
     "end_time": "2024-06-27T07:34:07.693801Z",
     "start_time": "2024-06-27T07:34:00.020223Z"
    }
   }
  },
  {
   "cell_type": "code",
   "execution_count": 6,
   "outputs": [],
   "source": [
    "df_reviews = df_reviews.join(df_reviews_meta, on=\"asin\", how=\"left\").select(\n",
    "    [\"reviewerID\", \"asin\", \"title\", \"overall\"]\n",
    ")"
   ],
   "metadata": {
    "collapsed": false,
    "ExecuteTime": {
     "end_time": "2024-06-27T07:34:07.994042Z",
     "start_time": "2024-06-27T07:34:07.696462Z"
    }
   }
  },
  {
   "cell_type": "code",
   "execution_count": 7,
   "outputs": [],
   "source": [
    "# get the first 3000 unique reviewers\n",
    "df_unique_reviewers_3000 = df_reviews[\"reviewerID\"].unique().limit(3000)"
   ],
   "metadata": {
    "collapsed": false,
    "ExecuteTime": {
     "end_time": "2024-06-27T07:34:08.007391Z",
     "start_time": "2024-06-27T07:34:07.996754Z"
    }
   }
  },
  {
   "cell_type": "code",
   "execution_count": 8,
   "outputs": [],
   "source": [
    "# remove rows where reviewerID is not in first_3k_unique_reviewers\n",
    "df_reviews = df_reviews.filter(pl.col(\"reviewerID\").is_in(df_unique_reviewers_3000))"
   ],
   "metadata": {
    "collapsed": false,
    "ExecuteTime": {
     "end_time": "2024-06-27T07:34:08.019450Z",
     "start_time": "2024-06-27T07:34:08.008818Z"
    }
   }
  },
  {
   "cell_type": "code",
   "execution_count": 9,
   "outputs": [],
   "source": [
    "# Remove duplicates based on 'reviewerID' and 'asin'\n",
    "df_reviews = df_reviews.unique(subset=[\"reviewerID\", \"asin\"])"
   ],
   "metadata": {
    "collapsed": false,
    "ExecuteTime": {
     "end_time": "2024-06-27T07:34:08.025785Z",
     "start_time": "2024-06-27T07:34:08.017423Z"
    }
   }
  },
  {
   "cell_type": "code",
   "execution_count": 10,
   "outputs": [],
   "source": [
    "def discretize_rating(rating: int) -> str:\n",
    "    \"\"\"\n",
    "    Discretize the rating into negative, positive, and average\n",
    "\n",
    "    \"\"\"\n",
    "\n",
    "    polarity = \"A\"  # average\n",
    "\n",
    "    if rating < 3:\n",
    "        polarity = \"N\"  # negative\n",
    "    elif rating > 3:\n",
    "        polarity = \"P\"  # positive\n",
    "\n",
    "    return polarity"
   ],
   "metadata": {
    "collapsed": false,
    "ExecuteTime": {
     "end_time": "2024-06-27T07:34:08.028245Z",
     "start_time": "2024-06-27T07:34:08.026032Z"
    }
   }
  },
  {
   "cell_type": "code",
   "execution_count": 11,
   "outputs": [],
   "source": [
    "df_reviews = df_reviews.with_columns(\n",
    "    pl.col(\"overall\")\n",
    "    .map_elements(discretize_rating, return_dtype=pl.String)\n",
    "    .alias(\"overall_discretized\")\n",
    ")"
   ],
   "metadata": {
    "collapsed": false,
    "ExecuteTime": {
     "end_time": "2024-06-27T07:34:08.039429Z",
     "start_time": "2024-06-27T07:34:08.030097Z"
    }
   }
  },
  {
   "cell_type": "code",
   "execution_count": 12,
   "outputs": [],
   "source": [
    "# Group by reviewerID and count the number of reviews, filter for more than 5 reviews and join back to the original DataFrame to filter it\n",
    "df_reviews = (\n",
    "    df_reviews.group_by(\"reviewerID\")\n",
    "    .agg(pl.count(\"reviewerID\").alias(\"review_count\"))\n",
    "    .filter(pl.col(\"review_count\") > 5)\n",
    "    .join(df_reviews, on=\"reviewerID\", how=\"inner\")\n",
    ")"
   ],
   "metadata": {
    "collapsed": false,
    "ExecuteTime": {
     "end_time": "2024-06-27T07:34:08.052620Z",
     "start_time": "2024-06-27T07:34:08.040814Z"
    }
   }
  },
  {
   "cell_type": "code",
   "execution_count": 13,
   "outputs": [],
   "source": [
    "# Create a list of products reviewed by each reviewer\n",
    "df_reviewers_asin_list = df_reviews.group_by(\"reviewerID\").agg(\n",
    "    pl.col(\"asin\").alias(\"asins\")\n",
    ")\n",
    "\n",
    "# Create a cross join of all pairs of reviewers and filter out pairs where the reviewerID is the same\n",
    "df_reviewer_asin_pairs = df_reviewers_asin_list.join(\n",
    "    df_reviewers_asin_list, how=\"cross\", suffix=\"_2\"\n",
    ").filter(pl.col(\"reviewerID\") != pl.col(\"reviewerID_2\"))"
   ],
   "metadata": {
    "collapsed": false,
    "ExecuteTime": {
     "end_time": "2024-06-27T07:34:10.157898Z",
     "start_time": "2024-06-27T07:34:08.048934Z"
    }
   }
  },
  {
   "cell_type": "code",
   "execution_count": 14,
   "outputs": [],
   "source": [
    "# We convert the pairs dataframe to a lazy dataframe in order calculate the Jaccard similarity simultaneously for all pairs\n",
    "df_reviewer_asin_pairs = df_reviewer_asin_pairs.lazy()"
   ],
   "metadata": {
    "collapsed": false,
    "ExecuteTime": {
     "end_time": "2024-06-27T07:34:10.162771Z",
     "start_time": "2024-06-27T07:34:10.159449Z"
    }
   }
  },
  {
   "cell_type": "code",
   "execution_count": 17,
   "outputs": [
    {
     "data": {
      "text/plain": "shape: (5, 5)\n┌────────────────┬─────────────────┬────────────────┬────────────────────────────────┬──────┐\n│ reviewerID     ┆ asins           ┆ reviewerID_2   ┆ asins_2                        ┆ dist │\n│ ---            ┆ ---             ┆ ---            ┆ ---                            ┆ ---  │\n│ str            ┆ list[str]       ┆ str            ┆ list[str]                      ┆ f64  │\n╞════════════════╪═════════════════╪════════════════╪════════════════════════════════╪══════╡\n│ A1G0HYMR02WM2W ┆ [\"B01C9KYUG8\",  ┆ A1ZV6MJC2GKFPD ┆ [\"B0002CZTI4\", \"B00CK2DM7Y\", … ┆ 0.0  │\n│                ┆ \"B0002OP7VQ\", … ┆                ┆ \"B00CL0I9LO\"]                  ┆      │\n│                ┆ \"B019OO4IY6\"]   ┆                ┆                                ┆      │\n│ A1G0HYMR02WM2W ┆ [\"B01C9KYUG8\",  ┆ AEKOR8DBS4M1W  ┆ [\"B000LPWHSM\", \"B01E6T56EA\", … ┆ 0.0  │\n│                ┆ \"B0002OP7VQ\", … ┆                ┆ \"B00JYG7LIU\"]                  ┆      │\n│                ┆ \"B019OO4IY6\"]   ┆                ┆                                ┆      │\n│ A1G0HYMR02WM2W ┆ [\"B01C9KYUG8\",  ┆ A11506QZDZPYGS ┆ [\"B000PO30QM\", \"B00975F4WS\", … ┆ 0.0  │\n│                ┆ \"B0002OP7VQ\", … ┆                ┆ \"B00NARHNCS\"]                  ┆      │\n│                ┆ \"B019OO4IY6\"]   ┆                ┆                                ┆      │\n│ A1G0HYMR02WM2W ┆ [\"B01C9KYUG8\",  ┆ A2WOF13694F0AC ┆ [\"B00721Z05A\", \"B00SMKSHGY\", … ┆ 0.0  │\n│                ┆ \"B0002OP7VQ\", … ┆                ┆ \"B000JLU26W\"]                  ┆      │\n│                ┆ \"B019OO4IY6\"]   ┆                ┆                                ┆      │\n│ A1G0HYMR02WM2W ┆ [\"B01C9KYUG8\",  ┆ A3QBYM820VKKVK ┆ [\"B0006LOBA8\", \"B010GPFUI0\", … ┆ 0.0  │\n│                ┆ \"B0002OP7VQ\", … ┆                ┆ \"B0002E3CK4\"]                  ┆      │\n│                ┆ \"B019OO4IY6\"]   ┆                ┆                                ┆      │\n└────────────────┴─────────────────┴────────────────┴────────────────────────────────┴──────┘",
      "text/html": "<div><style>\n.dataframe > thead > tr,\n.dataframe > tbody > tr {\n  text-align: right;\n  white-space: pre-wrap;\n}\n</style>\n<small>shape: (5, 5)</small><table border=\"1\" class=\"dataframe\"><thead><tr><th>reviewerID</th><th>asins</th><th>reviewerID_2</th><th>asins_2</th><th>dist</th></tr><tr><td>str</td><td>list[str]</td><td>str</td><td>list[str]</td><td>f64</td></tr></thead><tbody><tr><td>&quot;A1G0HYMR02WM2W&quot;</td><td>[&quot;B01C9KYUG8&quot;, &quot;B0002OP7VQ&quot;, … &quot;B019OO4IY6&quot;]</td><td>&quot;A1ZV6MJC2GKFPD&quot;</td><td>[&quot;B0002CZTI4&quot;, &quot;B00CK2DM7Y&quot;, … &quot;B00CL0I9LO&quot;]</td><td>0.0</td></tr><tr><td>&quot;A1G0HYMR02WM2W&quot;</td><td>[&quot;B01C9KYUG8&quot;, &quot;B0002OP7VQ&quot;, … &quot;B019OO4IY6&quot;]</td><td>&quot;AEKOR8DBS4M1W&quot;</td><td>[&quot;B000LPWHSM&quot;, &quot;B01E6T56EA&quot;, … &quot;B00JYG7LIU&quot;]</td><td>0.0</td></tr><tr><td>&quot;A1G0HYMR02WM2W&quot;</td><td>[&quot;B01C9KYUG8&quot;, &quot;B0002OP7VQ&quot;, … &quot;B019OO4IY6&quot;]</td><td>&quot;A11506QZDZPYGS&quot;</td><td>[&quot;B000PO30QM&quot;, &quot;B00975F4WS&quot;, … &quot;B00NARHNCS&quot;]</td><td>0.0</td></tr><tr><td>&quot;A1G0HYMR02WM2W&quot;</td><td>[&quot;B01C9KYUG8&quot;, &quot;B0002OP7VQ&quot;, … &quot;B019OO4IY6&quot;]</td><td>&quot;A2WOF13694F0AC&quot;</td><td>[&quot;B00721Z05A&quot;, &quot;B00SMKSHGY&quot;, … &quot;B000JLU26W&quot;]</td><td>0.0</td></tr><tr><td>&quot;A1G0HYMR02WM2W&quot;</td><td>[&quot;B01C9KYUG8&quot;, &quot;B0002OP7VQ&quot;, … &quot;B019OO4IY6&quot;]</td><td>&quot;A3QBYM820VKKVK&quot;</td><td>[&quot;B0006LOBA8&quot;, &quot;B010GPFUI0&quot;, … &quot;B0002E3CK4&quot;]</td><td>0.0</td></tr></tbody></table></div>"
     },
     "execution_count": 17,
     "metadata": {},
     "output_type": "execute_result"
    }
   ],
   "source": [
    "# Calculate the Jaccard similarity between the lists of products reviewed by each pair of reviewers and collect the results\n",
    "df_jaccard_sim = (\n",
    "    df_reviewer_asin_pairs.with_columns(\n",
    "        pld.col(\"asins\").dist_list.jaccard_index(\"asins_2\").alias(\"dist\")\n",
    "    )\n",
    "    .filter(pl.col(\"reviewerID\") != pl.col(\"reviewerID_2\"))\n",
    "    .collect()\n",
    ")\n",
    "\n",
    "df_jaccard_sim.head()"
   ],
   "metadata": {
    "collapsed": false,
    "ExecuteTime": {
     "end_time": "2024-06-27T07:34:25.333481Z",
     "start_time": "2024-06-27T07:34:23.839498Z"
    }
   }
  },
  {
   "cell_type": "code",
   "execution_count": 18,
   "outputs": [],
   "source": [
    "def recommend(\n",
    "    reviewer: str,\n",
    "    df_jaccard_sim: pl.DataFrame,\n",
    "    df_reviews: pl.DataFrame,\n",
    "    jaccard_threshold: float,\n",
    "    rec_num: int,\n",
    "    verbose: bool = False,\n",
    "):\n",
    "    \"\"\"\n",
    "    Recommend products to a reviewer based on Jaccard similarity\n",
    "    :param reviewer:\n",
    "    :param df_jaccard_sim:\n",
    "    :param df_reviews:\n",
    "    :param jaccard_threshold:\n",
    "    :param rec_num:\n",
    "    :param verbose:\n",
    "    :return:\n",
    "    \"\"\"\n",
    "\n",
    "    # Filter the jaccard_sim dataframe to get neighbors above the similarity threshold\n",
    "    neighbors = df_jaccard_sim.filter(\n",
    "        (pl.col(\"reviewerID\") == reviewer) & (pl.col(\"dist\") >= jaccard_threshold)\n",
    "    ).select(\n",
    "        [pl.col(\"reviewerID_2\").alias(\"neighbor\"), pl.col(\"dist\").alias(\"similarity\")]\n",
    "    )\n",
    "\n",
    "    if neighbors.is_empty():\n",
    "        if verbose:\n",
    "            print(\"No neighbors found. Try lowering the threshold.\")\n",
    "        return pl.DataFrame()\n",
    "\n",
    "    if verbose:\n",
    "        print(f\"Neighbors found: {neighbors.height}\")\n",
    "\n",
    "    # Join the neighbors dataframe with the reviews dataframe to get the reviews of neighbors\n",
    "    neighbor_reviews = neighbors.join(\n",
    "        df_reviews, left_on=\"neighbor\", right_on=\"reviewerID\"\n",
    "    )\n",
    "\n",
    "    # Create a scoring system based on the overall discretized ratings\n",
    "    scores = {\"P\": 2, \"A\": -1, \"N\": -2}\n",
    "    neighbor_reviews = neighbor_reviews.with_columns(\n",
    "        (\n",
    "            pl.col(\"overall_discretized\").replace(scores, default=None)\n",
    "            * pl.col(\"similarity\")\n",
    "        ).alias(\"weighted_score\")\n",
    "    )\n",
    "\n",
    "    # Aggregate scores for each product\n",
    "    product_scores = (\n",
    "        neighbor_reviews.group_by(\"asin\")\n",
    "        .agg(pl.sum(\"weighted_score\").alias(\"total_score\"))\n",
    "        .sort([\"total_score\"], descending=True)\n",
    "    )\n",
    "\n",
    "    # Filter out the products the reviewer has already reviewed\n",
    "    reviewer_asin_products = (\n",
    "        df_reviews.filter(pl.col(\"reviewerID\") == reviewer)\n",
    "        .select(\"asin\")\n",
    "        .to_series()\n",
    "        .to_list()\n",
    "    )\n",
    "\n",
    "    recommended_products = product_scores.filter(\n",
    "        ~pl.col(\"asin\").is_in(reviewer_asin_products)\n",
    "    )\n",
    "\n",
    "    # Get the top N recommended products\n",
    "    top_recommended = recommended_products.head(rec_num)\n",
    "\n",
    "    if verbose:\n",
    "        # Print recommendations\n",
    "        for row in top_recommended.rows():\n",
    "            product_title = (\n",
    "                df_reviews.filter(pl.col(\"asin\") == row[0])\n",
    "                .select(\"title\")\n",
    "                .to_series()[0]\n",
    "            )\n",
    "            print(\n",
    "                f\"Recommended: {product_title} (Score: {row[1]})\"\n",
    "            )  # assuming 'total_score' is the second column\n",
    "\n",
    "    return top_recommended"
   ],
   "metadata": {
    "collapsed": false,
    "ExecuteTime": {
     "end_time": "2024-06-27T07:34:27.138438Z",
     "start_time": "2024-06-27T07:34:27.133079Z"
    }
   }
  },
  {
   "cell_type": "code",
   "execution_count": 19,
   "outputs": [],
   "source": [
    "# reviewer who has more than 0.1 similarity and more than 5 neighbors\n",
    "active_reviewer_id = (\n",
    "    df_jaccard_sim.filter((pl.col(\"dist\") > 0.1))\n",
    "    .group_by(\"reviewerID\")\n",
    "    .agg(pl.count(\"reviewerID\").alias(\"neighbors_count\"))\n",
    "    .sort(\"neighbors_count\", descending=True)\n",
    "    .filter(pl.col(\"neighbors_count\") > 5)[0][\"reviewerID\"][0]\n",
    ")"
   ],
   "metadata": {
    "collapsed": false,
    "ExecuteTime": {
     "end_time": "2024-06-27T07:34:28.025556Z",
     "start_time": "2024-06-27T07:34:27.989415Z"
    }
   }
  },
  {
   "cell_type": "code",
   "execution_count": 20,
   "outputs": [
    {
     "name": "stdout",
     "output_type": "stream",
     "text": [
      "Neighbors found: 158\n",
      "Recommended: D'Addario EJ17-B25 Phosphor Bronze Acoustic Guitar Strings, Medium, 13-56, 25 Bulk Sets (Score: 9.0797782197163)\n",
      "Recommended: D'Addario EJ26 Phosphor Bronze Acoustic Guitar Strings, Custom Light, 11-52 (Score: 9.0797782197163)\n",
      "Recommended: DAddario Accessories Pro-Winder Guitar String Winder and Cutter  All-In-1 Restringing Tool  Includes Clippers, Bridge Pin Puller, Peg Winder  Designed to Fit Most Guitars (Score: 5.062893642305407)\n",
      "Recommended: Fender 351 Shape Classic Picks (12 Pack) for electric guitar, acoustic guitar, mandolin, and bass (Score: 3.6002886002886)\n",
      "Recommended: Elixir Strings Electric Guitar Strings w NANOWEB Coating, Light (.010-.046) (Score: 3.39010989010989)\n"
     ]
    },
    {
     "data": {
      "text/plain": "shape: (5, 2)\n┌────────────┬─────────────┐\n│ asin       ┆ total_score │\n│ ---        ┆ ---         │\n│ str        ┆ f64         │\n╞════════════╪═════════════╡\n│ B0007Y09VO ┆ 9.079778    │\n│ B0002H0A3S ┆ 9.079778    │\n│ B0002E1G5C ┆ 5.062894    │\n│ B0002E2SA4 ┆ 3.600289    │\n│ B0002E1O3G ┆ 3.39011     │\n└────────────┴─────────────┘",
      "text/html": "<div><style>\n.dataframe > thead > tr,\n.dataframe > tbody > tr {\n  text-align: right;\n  white-space: pre-wrap;\n}\n</style>\n<small>shape: (5, 2)</small><table border=\"1\" class=\"dataframe\"><thead><tr><th>asin</th><th>total_score</th></tr><tr><td>str</td><td>f64</td></tr></thead><tbody><tr><td>&quot;B0007Y09VO&quot;</td><td>9.079778</td></tr><tr><td>&quot;B0002H0A3S&quot;</td><td>9.079778</td></tr><tr><td>&quot;B0002E1G5C&quot;</td><td>5.062894</td></tr><tr><td>&quot;B0002E2SA4&quot;</td><td>3.600289</td></tr><tr><td>&quot;B0002E1O3G&quot;</td><td>3.39011</td></tr></tbody></table></div>"
     },
     "execution_count": 20,
     "metadata": {},
     "output_type": "execute_result"
    }
   ],
   "source": [
    "# recommend products for the active reviewer\n",
    "recommend(active_reviewer_id, df_jaccard_sim, df_reviews, 0.2, 5, True)"
   ],
   "metadata": {
    "collapsed": false,
    "ExecuteTime": {
     "end_time": "2024-06-27T07:34:29.371192Z",
     "start_time": "2024-06-27T07:34:29.340609Z"
    }
   }
  }
 ],
 "metadata": {
  "kernelspec": {
   "display_name": "Python 3",
   "language": "python",
   "name": "python3"
  },
  "language_info": {
   "codemirror_mode": {
    "name": "ipython",
    "version": 2
   },
   "file_extension": ".py",
   "mimetype": "text/x-python",
   "name": "python",
   "nbconvert_exporter": "python",
   "pygments_lexer": "ipython2",
   "version": "2.7.6"
  }
 },
 "nbformat": 4,
 "nbformat_minor": 0
}
